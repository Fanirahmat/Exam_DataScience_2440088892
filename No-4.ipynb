{
 "cells": [
  {
   "cell_type": "code",
   "execution_count": 1,
   "id": "9a8bde75",
   "metadata": {},
   "outputs": [
    {
     "name": "stdout",
     "output_type": "stream",
     "text": [
      "Jumlah orang yang tertarik pada hari ini (95% confidence interval):\n",
      "Lower Bound: 47\n",
      "Upper Bound: 73\n"
     ]
    }
   ],
   "source": [
    "import numpy as np\n",
    "import scipy.stats as stats\n",
    "\n",
    "# Jumlah orang yang telah dihubungi dan tertarik pada hari kemarin\n",
    "n1 = 100\n",
    "x1 = 30\n",
    "\n",
    "# Jumlah orang yang akan dihubungi pada hari ini\n",
    "n2 = 200\n",
    "\n",
    "# Proporsi orang yang tertarik pada hari kemarin\n",
    "p = x1 / n1\n",
    "\n",
    "# Menghitung standar deviasi berdasarkan proporsi yang diperoleh dari hari kemarin\n",
    "std_dev = np.sqrt(p * (1 - p))\n",
    "\n",
    "# Menghitung confidence interval dengan menggunakan distribusi normal\n",
    "z_score = stats.norm.ppf(0.975)  # z-score untuk 95% confidence interval\n",
    "margin_error = z_score * np.sqrt((std_dev**2) / n2)\n",
    "\n",
    "# Menghitung jumlah orang yang tertarik pada hari ini dengan 95% confidence interval\n",
    "lower_bound = n2 * (p - margin_error)\n",
    "upper_bound = n2 * (p + margin_error)\n",
    "\n",
    "print(\"Jumlah orang yang tertarik pada hari ini (95% confidence interval):\")\n",
    "print(f\"Lower Bound: {lower_bound:.0f}\")\n",
    "print(f\"Upper Bound: {upper_bound:.0f}\")"
   ]
  },
  {
   "cell_type": "code",
   "execution_count": null,
   "id": "e207f892",
   "metadata": {},
   "outputs": [],
   "source": []
  }
 ],
 "metadata": {
  "kernelspec": {
   "display_name": "Python 3 (ipykernel)",
   "language": "python",
   "name": "python3"
  },
  "language_info": {
   "codemirror_mode": {
    "name": "ipython",
    "version": 3
   },
   "file_extension": ".py",
   "mimetype": "text/x-python",
   "name": "python",
   "nbconvert_exporter": "python",
   "pygments_lexer": "ipython3",
   "version": "3.10.9"
  }
 },
 "nbformat": 4,
 "nbformat_minor": 5
}
