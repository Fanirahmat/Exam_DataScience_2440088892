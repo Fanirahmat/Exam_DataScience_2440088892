{
 "cells": [
  {
   "cell_type": "code",
   "execution_count": null,
   "id": "486462f6",
   "metadata": {},
   "outputs": [],
   "source": [
    "import pandas as pd\n",
    "import numpy as np\n",
    "from sklearn.linear_model import LinearRegression\n",
    "from sklearn.model_selection import train_test_split\n",
    "\n",
    "# Membaca data dari URL\n",
    "url = \"https://raw.githubusercontent.com/rebekz/datascience_course/main/data/rollingsales/rollingsales_brooklyn_2016.20160830.csv\"\n",
    "data = pd.read_csv(url)\n",
    "\n",
    "# Memilih atribut yang akan digunakan\n",
    "selected_features = ['BOROUGH', 'NEIGHBORHOOD', 'BUILDING CLASS CATEGORY', 'YEAR BUILT', 'GROSS SQUARE FEET', 'TOTAL UNITS']\n",
    "data_selected = data[selected_features]\n",
    "\n",
    "# Menghapus baris dengan nilai yang hilang\n",
    "data_cleaned = data_selected.dropna()\n",
    "\n",
    "# Mengubah variabel kategorikal menjadi variabel dummy\n",
    "data_encoded = pd.get_dummies(data_cleaned)\n",
    "\n",
    "# Memisahkan variabel independen (X) dan variabel dependen (y)\n",
    "X = data_encoded.drop('SALE PRICE', axis=1)\n",
    "y = data_encoded['SALE PRICE']\n",
    "\n",
    "# Membagi data menjadi data pelatihan dan data uji\n",
    "X_train, X_test, y_train, y_test = train_test_split(X, y, test_size=0.2, random_state=42)\n",
    "\n",
    "# Membangun model regresi linear\n",
    "regression_model = LinearRegression()\n",
    "regression_model.fit(X_train, y_train)\n",
    "\n",
    "# Menampilkan koefisien untuk setiap atribut\n",
    "feature_coefficients = pd.DataFrame({'Feature': X_train.columns, 'Coefficient': regression_model.coef_})\n",
    "significant_features = feature_coefficients[feature_coefficients['Coefficient'] != 0]\n",
    "\n",
    "print(\"Atribut yang signifikan terhadap Sales Price:\")\n",
    "print(significant_features)\n"
   ]
  }
 ],
 "metadata": {
  "kernelspec": {
   "display_name": "Python 3 (ipykernel)",
   "language": "python",
   "name": "python3"
  },
  "language_info": {
   "codemirror_mode": {
    "name": "ipython",
    "version": 3
   },
   "file_extension": ".py",
   "mimetype": "text/x-python",
   "name": "python",
   "nbconvert_exporter": "python",
   "pygments_lexer": "ipython3",
   "version": "3.10.9"
  }
 },
 "nbformat": 4,
 "nbformat_minor": 5
}
