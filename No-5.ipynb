{
 "cells": [
  {
   "cell_type": "code",
   "execution_count": 1,
   "id": "afde963f",
   "metadata": {},
   "outputs": [
    {
     "name": "stdout",
     "output_type": "stream",
     "text": [
      "Atribut yang signifikan terhadap Sales Price:\n",
      "                                              Feature   Coefficient\n",
      "0                                             borough -1.312971e-07\n",
      "1                                          year.built -3.850360e+02\n",
      "2                                   gross.square.feet  2.421084e+02\n",
      "3                                         total.units -2.339370e+05\n",
      "4              neighborhood_BATH BEACH                -4.827952e+05\n",
      "..                                                ...           ...\n",
      "62             neighborhood_WINDSOR TERRACE            4.615145e+04\n",
      "63             neighborhood_WYCKOFF HEIGHTS           -5.972663e+05\n",
      "64   building.class.category_01  ONE FAMILY DWELLINGS -9.747616e+04\n",
      "65   building.class.category_02  TWO FAMILY DWELLINGS -1.033493e+04\n",
      "66  building.class.category_03  THREE FAMILY DWELL...  1.078111e+05\n",
      "\n",
      "[67 rows x 2 columns]\n"
     ]
    }
   ],
   "source": [
    "import pandas as pd\n",
    "import numpy as np\n",
    "from sklearn.linear_model import LinearRegression\n",
    "from sklearn.model_selection import train_test_split\n",
    "\n",
    "\n",
    "data = pd.read_csv('rollingsales_brooklyn.csv')\n",
    "\n",
    "selected_features = ['borough', 'neighborhood', 'building.class.category', 'year.built', 'gross.square.feet', 'total.units', 'sale.price']\n",
    "data_selected = data[selected_features]\n",
    "data_cleaned = data_selected.dropna()\n",
    "data_encoded = pd.get_dummies(data_cleaned)\n",
    "\n",
    "\n",
    "X = data_encoded.drop('sale.price', axis=1)\n",
    "y = data_encoded['sale.price']\n",
    "X_train, X_test, y_train, y_test = train_test_split(X, y, test_size=0.2, random_state=42)\n",
    "\n",
    "regression_model = LinearRegression()\n",
    "regression_model.fit(X_train, y_train)\n",
    "\n",
    "# Menampilkan koefisien untuk setiap atribut\n",
    "feature_coefficients = pd.DataFrame({'Feature': X_train.columns, 'Coefficient': regression_model.coef_})\n",
    "significant_features = feature_coefficients[feature_coefficients['Coefficient'] != 0]\n",
    "\n",
    "print(\"Atribut yang signifikan terhadap Sales Price:\")\n",
    "print(significant_features)\n"
   ]
  },
  {
   "cell_type": "code",
   "execution_count": null,
   "id": "ab25c744",
   "metadata": {},
   "outputs": [],
   "source": []
  }
 ],
 "metadata": {
  "kernelspec": {
   "display_name": "Python 3 (ipykernel)",
   "language": "python",
   "name": "python3"
  },
  "language_info": {
   "codemirror_mode": {
    "name": "ipython",
    "version": 3
   },
   "file_extension": ".py",
   "mimetype": "text/x-python",
   "name": "python",
   "nbconvert_exporter": "python",
   "pygments_lexer": "ipython3",
   "version": "3.10.9"
  }
 },
 "nbformat": 4,
 "nbformat_minor": 5
}
